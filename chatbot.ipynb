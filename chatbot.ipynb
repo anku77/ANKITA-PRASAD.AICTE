{
  "nbformat": 4,
  "nbformat_minor": 0,
  "metadata": {
    "colab": {
      "provenance": [],
      "authorship_tag": "ABX9TyPxLU29V9IMuUHHI8fuuLjm",
      "include_colab_link": true
    },
    "kernelspec": {
      "name": "python3",
      "display_name": "Python 3"
    },
    "language_info": {
      "name": "python"
    }
  },
  "cells": [
    {
      "cell_type": "markdown",
      "metadata": {
        "id": "view-in-github",
        "colab_type": "text"
      },
      "source": [
        "<a href=\"https://colab.research.google.com/github/anku77/ANKITA-PRASAD.AICTE/blob/main/chatbot.ipynb\" target=\"_parent\"><img src=\"https://colab.research.google.com/assets/colab-badge.svg\" alt=\"Open In Colab\"/></a>"
      ]
    },
    {
      "cell_type": "code",
      "execution_count": null,
      "metadata": {
        "id": "JOsDJPd54tHg"
      },
      "outputs": [],
      "source": [
        "import re\n",
        "import random"
      ]
    },
    {
      "cell_type": "code",
      "source": [
        "class RuleBot:\n",
        "  ###Potential negative responses\n",
        "  negative_responses = (\"no\",\"nope\",\"nah\",\"not a chance\",\"sorry\")\n",
        "  ### exit conversatition keywords\n",
        "  exit_commands = (\"quit\",\"pause\",\"exit\",\"goodbye\",\"bye\",\"later\")\n",
        "  #random starter question\n",
        "  random_questions = (\n",
        "      \"Why are you here?\",\n",
        "      \"Are there many humans like you?\",\n",
        "      \"What do you consume for sustenance?\",\n",
        "      \"Is there intelligent life on this planet?\",\n",
        "      \"Does earth have a leader?\",\n",
        "      \"What technology do you have ob this planet?\"\n",
        "  )\n",
        "\n",
        "  def __init__(self):\n",
        "    self.alienbabble = {'describe_planet_intent': r'.*\\s*your planet.*',\n",
        "                        'answer_why_intent': r'why\\sare.*',\n",
        "                        'about_intellipat': r'.*\\s*intellipaat',\n",
        "                        'about_session': r'.*\\s*session'\n",
        "                        }\n",
        "  def greet(self):\n",
        "    self.name = input(\"What is your name?\\n\")\n",
        "    will_help = input(\n",
        "        f\"hi {self.name},I am Rulebot.Will you help me learn about your planet?\\n\")\n",
        "    if will_help in self.negative_responses:\n",
        "      print(\"Ok,have a nice Earth day!\")\n",
        "      return\n",
        "    self.chat()\n",
        "  def make_exit(self, reply):\n",
        "    for command in self.exit_commands:\n",
        "      if reply == command:\n",
        "        print(\"okay,have a nice earth day!\")\n",
        "        return True\n",
        "  def chat(self):\n",
        "   reply = input(random.choice(self.random_questions)).lower()\n",
        "   while not self.make_exit(reply):\n",
        "    reply = input(self.match_reply(reply))\n",
        "  def match_reply(self, reply):\n",
        "    for key, value in self.alienbabble.items():\n",
        "      intent = key\n",
        "      regex_pattern = value\n",
        "      found_match = re.match(regex_pattern, reply)\n",
        "      if found_match and intent  == 'describe_planet_intent':\n",
        "        return self.describe_planet_intent()\n",
        "      elif found_match and intent == 'answer_why_intent':\n",
        "        return self.answer_why_intent()\n",
        "      elif found_match and intent == 'about_intellipat':\n",
        "        return self.about_intellipat()\n",
        "      elif found_match and intent == 'about_session':\n",
        "        return self.about_session()\n",
        "      if not found_match:\n",
        "        return self.no_match_intent()\n",
        "  def describe_planet_intent(self):\n",
        "    responses = (\"My planet is utopia of diverse organism and species.\\n\",\n",
        "    \"I'm from Opidipus,the capital of the wayward galaxies.\\n\")\n",
        "    return random.choice(responses)\n",
        "  def describe_planet_intent(self):\n",
        "    responses = (\"I come in peace\\n\",\"I m here to collect data on your planet and its inhabitants\\n\",\n",
        "                 \"I heard the coffee in good\\n\")\n",
        "    return random.choice(responses)\n",
        "  def describe_planet_intent(self):\n",
        "    responses = (\"Intellipaat is world's largest professional educational company\\n\", \"Intellipaat will make ypu learn concepts in the way never\"\n",
        "    \"Intellipaat is where your career and skills grow\\n\")\n",
        "    return random.choice(responses)\n",
        "  def answer_why_intent(self):\n",
        "    responses = (\"I come in peace\\n\",\"i am here to collect data on your planet and its inhabitants\\n\",\n",
        "                 \"i heard the coffee is good\\n\")\n",
        "  def about_intellipat(self):\n",
        "    responses = (\"Intellipat is world largest professional educational\\n\",\"intellipat will make you learn concepts in way \\n\",\n",
        "                 \"intellipat is where your career and skill grow\\n\")\n",
        "    return \"Intellilpaat is great place to learn\\n\"\n",
        "  def about_session(self):\n",
        "    responses = (\"session is on 22nd may 2025\\n\",'session was cool')\n",
        "    return random.choice(responses)\n",
        "\n",
        "\n",
        "  def no_match_intent(self):\n",
        "    responses = (\n",
        "        \"Please tell me more.\\n\", \"Tell me more!\\n\", \"why do you say that?\\n\", \"I see.Can you elaborate?\\n\",\n",
        "        \"Interesting.Can you tell me more?\\n\", \"I see.How do you think?\\n\", \"Why do you say that?\\n\",\n",
        "        \"How do you think I feel when you say that?\\n\"\n",
        "    )\n",
        "    return random.choice(responses)\n",
        "AlienBot = RuleBot()\n",
        "AlienBot.greet()\n",
        "\n"
      ],
      "metadata": {
        "colab": {
          "base_uri": "https://localhost:8080/"
        },
        "id": "Od_XLqL64389",
        "outputId": "963c4f6c-4894-48f7-bc72-a507b7548786"
      },
      "execution_count": null,
      "outputs": [
        {
          "output_type": "stream",
          "name": "stdout",
          "text": [
            "What is your name?\n",
            "anita\n",
            "hi anita,I am Rulebot.Will you help me learn about your planet?\n",
            "tell me about the session\n",
            "Why are you here?session\n",
            "session was coolwhen is the session\n",
            "session is on 22nd may 2025\n",
            "bye\n",
            "okay,have a nice earth day!\n"
          ]
        }
      ]
    },
    {
      "cell_type": "code",
      "source": [
        "ll"
      ],
      "metadata": {
        "id": "8iRQPdXhDTge"
      },
      "execution_count": null,
      "outputs": []
    }
  ]
}